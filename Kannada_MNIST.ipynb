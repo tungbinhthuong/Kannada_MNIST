{
  "nbformat": 4,
  "nbformat_minor": 0,
  "metadata": {
    "colab": {
      "name": "Kannada MNIST.ipynb",
      "provenance": [],
      "collapsed_sections": []
    },
    "kernelspec": {
      "name": "python3",
      "display_name": "Python 3"
    }
  },
  "cells": [
    {
      "cell_type": "code",
      "metadata": {
        "id": "nuV7roz7BZjl"
      },
      "source": [
        "# Import the libraries we need for this lab\r\n",
        "\r\n",
        "# Using the following line code to install the torchvision library\r\n",
        "# !conda install -y torchvision\r\n",
        "# Import PyTorch Modules will be used in the lab\r\n",
        "\r\n",
        "import torch \r\n",
        "from torch.autograd import backward\r\n",
        "from torch.utils.data import Dataset, DataLoader\r\n",
        "import pandas\r\n",
        "import torch.nn as nn\r\n",
        "import torchvision.transforms as transforms\r\n",
        "import torchvision.datasets as dsets\r\n",
        "import matplotlib.pylab as plt\r\n",
        "import numpy as np\r\n",
        "import torchvision.models as models"
      ],
      "execution_count": null,
      "outputs": []
    },
    {
      "cell_type": "code",
      "metadata": {
        "id": "Rh0CqBr4iVEf"
      },
      "source": [
        "import pandas as pd\r\n",
        "import numpy as np\r\n",
        "import gc\r\n",
        "import matplotlib.pyplot as plt\r\n",
        "import xgboost as xgb\r\n",
        "import matplotlib\r\n",
        "from sklearn.preprocessing import PolynomialFeatures\r\n",
        "%matplotlib inline \r\n",
        "\r\n",
        "pd.set_option('display.max_rows', 600)\r\n",
        "pd.set_option('display.max_columns', 50)\r\n",
        "\r\n",
        "import lightgbm as lgb\r\n",
        "from sklearn.decomposition import NMF\r\n",
        "from sklearn.linear_model import LinearRegression\r\n",
        "from sklearn.linear_model import Ridge\r\n",
        "from sklearn.metrics import r2_score\r\n",
        "from sklearn.model_selection import train_test_split\r\n",
        "from tqdm import tqdm_notebook\r\n",
        "from sklearn.preprocessing import StandardScaler\r\n",
        "from sklearn.feature_extraction.text import TfidfVectorizer\r\n",
        "from itertools import product\r\n",
        "\r\n",
        "\r\n",
        "def downcast_dtypes(df):\r\n",
        "    '''\r\n",
        "        Changes column types in the dataframe: \r\n",
        "                \r\n",
        "                `float64` type to `float32`\r\n",
        "                `int64`   type to `int32`\r\n",
        "    '''\r\n",
        "    \r\n",
        "    # Select columns to downcast\r\n",
        "    float_cols = [c for c in df if df[c].dtype == \"float64\"]\r\n",
        "    int_cols =   [c for c in df if df[c].dtype == \"int64\"]\r\n",
        "    \r\n",
        "    # Downcast\r\n",
        "    df[float_cols] = df[float_cols].astype(np.float32)\r\n",
        "    df[int_cols]   = df[int_cols].astype(np.int32)\r\n",
        "    \r\n",
        "    return df"
      ],
      "execution_count": null,
      "outputs": []
    },
    {
      "cell_type": "code",
      "metadata": {
        "id": "GA7Dw2QjhC1V"
      },
      "source": [
        "!pip install -U -q kaggle\r\n",
        "!mkdir -p ~/.kaggle\r\n"
      ],
      "execution_count": null,
      "outputs": []
    },
    {
      "cell_type": "code",
      "metadata": {
        "colab": {
          "resources": {
            "http://localhost:8080/nbextensions/google.colab/files.js": {
              "data": "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",
              "ok": true,
              "headers": [
                [
                  "content-type",
                  "application/javascript"
                ]
              ],
              "status": 200,
              "status_text": ""
            }
          },
          "base_uri": "https://localhost:8080/",
          "height": 90
        },
        "id": "471PBg5uhxid",
        "outputId": "d4deb8ab-2768-449b-cf6e-0402c95d27cc"
      },
      "source": [
        "from google.colab import files\r\n",
        "files.upload()"
      ],
      "execution_count": null,
      "outputs": [
        {
          "output_type": "display_data",
          "data": {
            "text/html": [
              "\n",
              "     <input type=\"file\" id=\"files-8323cc90-0024-4ce2-ba8f-e8b1d84b4229\" name=\"files[]\" multiple disabled\n",
              "        style=\"border:none\" />\n",
              "     <output id=\"result-8323cc90-0024-4ce2-ba8f-e8b1d84b4229\">\n",
              "      Upload widget is only available when the cell has been executed in the\n",
              "      current browser session. Please rerun this cell to enable.\n",
              "      </output>\n",
              "      <script src=\"/nbextensions/google.colab/files.js\"></script> "
            ],
            "text/plain": [
              "<IPython.core.display.HTML object>"
            ]
          },
          "metadata": {
            "tags": []
          }
        },
        {
          "output_type": "stream",
          "text": [
            "Saving kaggle.json to kaggle.json\n"
          ],
          "name": "stdout"
        },
        {
          "output_type": "execute_result",
          "data": {
            "text/plain": [
              "{'kaggle.json': b'{\"username\":\"tungbinhthuong\",\"key\":\"fd622c39c04da294c5e392c7f76ec1a7\"}'}"
            ]
          },
          "metadata": {
            "tags": []
          },
          "execution_count": 4
        }
      ]
    },
    {
      "cell_type": "code",
      "metadata": {
        "id": "EtDvH-OehzAv"
      },
      "source": [
        "!cp kaggle.json ~/.kaggle/"
      ],
      "execution_count": null,
      "outputs": []
    },
    {
      "cell_type": "code",
      "metadata": {
        "colab": {
          "base_uri": "https://localhost:8080/"
        },
        "id": "1YlwQo6Wh0mA",
        "outputId": "1258f6bc-3a37-4700-88c6-408a830daa56"
      },
      "source": [
        "!kaggle competitions download -c Kannada-MNIST\r\n",
        "!ls"
      ],
      "execution_count": null,
      "outputs": [
        {
          "output_type": "stream",
          "text": [
            "Warning: Your Kaggle API key is readable by other users on this system! To fix this, you can run 'chmod 600 /root/.kaggle/kaggle.json'\n",
            "Warning: Looks like you're using an outdated API Version, please consider updating (server 1.5.10 / client 1.5.4)\n",
            "Downloading Dig-MNIST.csv.zip to /content\n",
            "  0% 0.00/1.90M [00:00<?, ?B/s]\n",
            "100% 1.90M/1.90M [00:00<00:00, 63.0MB/s]\n",
            "Downloading test.csv.zip to /content\n",
            "  0% 0.00/818k [00:00<?, ?B/s]\n",
            "100% 818k/818k [00:00<00:00, 110MB/s]\n",
            "Downloading sample_submission.csv to /content\n",
            "  0% 0.00/33.1k [00:00<?, ?B/s]\n",
            "100% 33.1k/33.1k [00:00<00:00, 33.5MB/s]\n",
            "Downloading train.csv.zip to /content\n",
            " 52% 5.00M/9.71M [00:00<00:00, 20.5MB/s]\n",
            "100% 9.71M/9.71M [00:00<00:00, 32.3MB/s]\n",
            "Dig-MNIST.csv.zip  sample_data\t\t  test.csv.zip\n",
            "kaggle.json\t   sample_submission.csv  train.csv.zip\n"
          ],
          "name": "stdout"
        }
      ]
    },
    {
      "cell_type": "code",
      "metadata": {
        "colab": {
          "base_uri": "https://localhost:8080/"
        },
        "id": "mPDCkRS8h_oH",
        "outputId": "6bdc1f52-f16a-4893-f7cf-602fe2d6e3e3"
      },
      "source": [
        "!unzip Dig-MNIST.csv.zip\r\n",
        "!unzip test.csv.zip\r\n",
        "!unzip train.csv.zip"
      ],
      "execution_count": null,
      "outputs": [
        {
          "output_type": "stream",
          "text": [
            "Archive:  Dig-MNIST.csv.zip\n",
            "  inflating: Dig-MNIST.csv           \n",
            "Archive:  test.csv.zip\n",
            "  inflating: test.csv                \n",
            "Archive:  train.csv.zip\n",
            "  inflating: train.csv               \n"
          ],
          "name": "stdout"
        }
      ]
    },
    {
      "cell_type": "code",
      "metadata": {
        "id": "q9ykDlp2iNEq"
      },
      "source": [
        "train = pd.read_csv('/content/train.csv')\r\n",
        "test = pd.read_csv('/content/test.csv')\r\n",
        "valid = pd.read_csv('/content/Dig-MNIST.csv')"
      ],
      "execution_count": null,
      "outputs": []
    },
    {
      "cell_type": "code",
      "metadata": {
        "colab": {
          "base_uri": "https://localhost:8080/"
        },
        "id": "0B9q06qRlHMD",
        "outputId": "02ea3078-9d03-4620-d2c3-45e5de34820a"
      },
      "source": [
        "len(train)"
      ],
      "execution_count": null,
      "outputs": [
        {
          "output_type": "execute_result",
          "data": {
            "text/plain": [
              "60000"
            ]
          },
          "metadata": {
            "tags": []
          },
          "execution_count": 9
        }
      ]
    },
    {
      "cell_type": "code",
      "metadata": {
        "id": "ga56eY_piS3b"
      },
      "source": [
        "def read_inp(inp):\r\n",
        "    target = inp['label']\r\n",
        "    img = inp.drop(['label'], axis = 1)\r\n",
        "    img = img.to_numpy()\r\n",
        "    img = img.reshape((len(inp),1,28,28)).astype(np.uint8)\r\n",
        "    return torch.tensor(img), target "
      ],
      "execution_count": null,
      "outputs": []
    },
    {
      "cell_type": "code",
      "metadata": {
        "id": "bkpHVuMolOMj"
      },
      "source": [
        "#plot_data\r\n",
        "def show_data(img, label, index):\r\n",
        "  plt.imshow(img[index], cmap='gray')\r\n",
        "  plt.title('y = ' + str(label[index]))"
      ],
      "execution_count": null,
      "outputs": []
    },
    {
      "cell_type": "code",
      "metadata": {
        "id": "6eC3YuhvikwQ"
      },
      "source": [
        "train_img, train_label = read_inp(train)\r\n",
        "valid_img, valid_label = read_inp(valid)\r\n",
        "train_img = train_img/255 #normalization\r\n",
        "valid_img = valid_img/255"
      ],
      "execution_count": null,
      "outputs": []
    },
    {
      "cell_type": "code",
      "metadata": {
        "colab": {
          "base_uri": "https://localhost:8080/"
        },
        "id": "kTgttErMlYNN",
        "outputId": "d13336b2-5ed0-45d3-e9db-1d9f6a1510a4"
      },
      "source": [
        "train_img.shape"
      ],
      "execution_count": null,
      "outputs": [
        {
          "output_type": "execute_result",
          "data": {
            "text/plain": [
              "torch.Size([60000, 1, 28, 28])"
            ]
          },
          "metadata": {
            "tags": []
          },
          "execution_count": 13
        }
      ]
    },
    {
      "cell_type": "code",
      "metadata": {
        "colab": {
          "base_uri": "https://localhost:8080/"
        },
        "id": "Xcfn5n4dmPFp",
        "outputId": "e55bcd32-b0e0-4dcd-9386-9bdf06f50113"
      },
      "source": [
        "from torchvision.models.resnet import ResNet, BasicBlock, Bottleneck\r\n",
        "\r\n",
        "class MNISTResNet(ResNet):\r\n",
        "    def __init__(self):\r\n",
        "        super(MNISTResNet, self).__init__(BasicBlock, [2, 2, 2, 2], num_classes=10) # Based on ResNet18\r\n",
        "        # super(MNISTResNet, self).__init__(BasicBlock, [3, 4, 6, 3], num_classes=10) # Based on ResNet34\r\n",
        "        # super(MNISTResNet, self).__init__(Bottleneck, [3, 4, 6, 3], num_classes=10) # Based on ResNet50\r\n",
        "        self.conv1 = nn.Conv2d(1, 64, kernel_size=7, stride=1, padding=3,bias=False)\r\n",
        "\r\n",
        "model = MNISTResNet()\r\n",
        "print(model)"
      ],
      "execution_count": null,
      "outputs": [
        {
          "output_type": "stream",
          "text": [
            "MNISTResNet(\n",
            "  (conv1): Conv2d(1, 64, kernel_size=(7, 7), stride=(1, 1), padding=(3, 3), bias=False)\n",
            "  (bn1): BatchNorm2d(64, eps=1e-05, momentum=0.1, affine=True, track_running_stats=True)\n",
            "  (relu): ReLU(inplace=True)\n",
            "  (maxpool): MaxPool2d(kernel_size=3, stride=2, padding=1, dilation=1, ceil_mode=False)\n",
            "  (layer1): Sequential(\n",
            "    (0): BasicBlock(\n",
            "      (conv1): Conv2d(64, 64, kernel_size=(3, 3), stride=(1, 1), padding=(1, 1), bias=False)\n",
            "      (bn1): BatchNorm2d(64, eps=1e-05, momentum=0.1, affine=True, track_running_stats=True)\n",
            "      (relu): ReLU(inplace=True)\n",
            "      (conv2): Conv2d(64, 64, kernel_size=(3, 3), stride=(1, 1), padding=(1, 1), bias=False)\n",
            "      (bn2): BatchNorm2d(64, eps=1e-05, momentum=0.1, affine=True, track_running_stats=True)\n",
            "    )\n",
            "    (1): BasicBlock(\n",
            "      (conv1): Conv2d(64, 64, kernel_size=(3, 3), stride=(1, 1), padding=(1, 1), bias=False)\n",
            "      (bn1): BatchNorm2d(64, eps=1e-05, momentum=0.1, affine=True, track_running_stats=True)\n",
            "      (relu): ReLU(inplace=True)\n",
            "      (conv2): Conv2d(64, 64, kernel_size=(3, 3), stride=(1, 1), padding=(1, 1), bias=False)\n",
            "      (bn2): BatchNorm2d(64, eps=1e-05, momentum=0.1, affine=True, track_running_stats=True)\n",
            "    )\n",
            "  )\n",
            "  (layer2): Sequential(\n",
            "    (0): BasicBlock(\n",
            "      (conv1): Conv2d(64, 128, kernel_size=(3, 3), stride=(2, 2), padding=(1, 1), bias=False)\n",
            "      (bn1): BatchNorm2d(128, eps=1e-05, momentum=0.1, affine=True, track_running_stats=True)\n",
            "      (relu): ReLU(inplace=True)\n",
            "      (conv2): Conv2d(128, 128, kernel_size=(3, 3), stride=(1, 1), padding=(1, 1), bias=False)\n",
            "      (bn2): BatchNorm2d(128, eps=1e-05, momentum=0.1, affine=True, track_running_stats=True)\n",
            "      (downsample): Sequential(\n",
            "        (0): Conv2d(64, 128, kernel_size=(1, 1), stride=(2, 2), bias=False)\n",
            "        (1): BatchNorm2d(128, eps=1e-05, momentum=0.1, affine=True, track_running_stats=True)\n",
            "      )\n",
            "    )\n",
            "    (1): BasicBlock(\n",
            "      (conv1): Conv2d(128, 128, kernel_size=(3, 3), stride=(1, 1), padding=(1, 1), bias=False)\n",
            "      (bn1): BatchNorm2d(128, eps=1e-05, momentum=0.1, affine=True, track_running_stats=True)\n",
            "      (relu): ReLU(inplace=True)\n",
            "      (conv2): Conv2d(128, 128, kernel_size=(3, 3), stride=(1, 1), padding=(1, 1), bias=False)\n",
            "      (bn2): BatchNorm2d(128, eps=1e-05, momentum=0.1, affine=True, track_running_stats=True)\n",
            "    )\n",
            "  )\n",
            "  (layer3): Sequential(\n",
            "    (0): BasicBlock(\n",
            "      (conv1): Conv2d(128, 256, kernel_size=(3, 3), stride=(2, 2), padding=(1, 1), bias=False)\n",
            "      (bn1): BatchNorm2d(256, eps=1e-05, momentum=0.1, affine=True, track_running_stats=True)\n",
            "      (relu): ReLU(inplace=True)\n",
            "      (conv2): Conv2d(256, 256, kernel_size=(3, 3), stride=(1, 1), padding=(1, 1), bias=False)\n",
            "      (bn2): BatchNorm2d(256, eps=1e-05, momentum=0.1, affine=True, track_running_stats=True)\n",
            "      (downsample): Sequential(\n",
            "        (0): Conv2d(128, 256, kernel_size=(1, 1), stride=(2, 2), bias=False)\n",
            "        (1): BatchNorm2d(256, eps=1e-05, momentum=0.1, affine=True, track_running_stats=True)\n",
            "      )\n",
            "    )\n",
            "    (1): BasicBlock(\n",
            "      (conv1): Conv2d(256, 256, kernel_size=(3, 3), stride=(1, 1), padding=(1, 1), bias=False)\n",
            "      (bn1): BatchNorm2d(256, eps=1e-05, momentum=0.1, affine=True, track_running_stats=True)\n",
            "      (relu): ReLU(inplace=True)\n",
            "      (conv2): Conv2d(256, 256, kernel_size=(3, 3), stride=(1, 1), padding=(1, 1), bias=False)\n",
            "      (bn2): BatchNorm2d(256, eps=1e-05, momentum=0.1, affine=True, track_running_stats=True)\n",
            "    )\n",
            "  )\n",
            "  (layer4): Sequential(\n",
            "    (0): BasicBlock(\n",
            "      (conv1): Conv2d(256, 512, kernel_size=(3, 3), stride=(2, 2), padding=(1, 1), bias=False)\n",
            "      (bn1): BatchNorm2d(512, eps=1e-05, momentum=0.1, affine=True, track_running_stats=True)\n",
            "      (relu): ReLU(inplace=True)\n",
            "      (conv2): Conv2d(512, 512, kernel_size=(3, 3), stride=(1, 1), padding=(1, 1), bias=False)\n",
            "      (bn2): BatchNorm2d(512, eps=1e-05, momentum=0.1, affine=True, track_running_stats=True)\n",
            "      (downsample): Sequential(\n",
            "        (0): Conv2d(256, 512, kernel_size=(1, 1), stride=(2, 2), bias=False)\n",
            "        (1): BatchNorm2d(512, eps=1e-05, momentum=0.1, affine=True, track_running_stats=True)\n",
            "      )\n",
            "    )\n",
            "    (1): BasicBlock(\n",
            "      (conv1): Conv2d(512, 512, kernel_size=(3, 3), stride=(1, 1), padding=(1, 1), bias=False)\n",
            "      (bn1): BatchNorm2d(512, eps=1e-05, momentum=0.1, affine=True, track_running_stats=True)\n",
            "      (relu): ReLU(inplace=True)\n",
            "      (conv2): Conv2d(512, 512, kernel_size=(3, 3), stride=(1, 1), padding=(1, 1), bias=False)\n",
            "      (bn2): BatchNorm2d(512, eps=1e-05, momentum=0.1, affine=True, track_running_stats=True)\n",
            "    )\n",
            "  )\n",
            "  (avgpool): AdaptiveAvgPool2d(output_size=(1, 1))\n",
            "  (fc): Linear(in_features=512, out_features=10, bias=True)\n",
            ")\n"
          ],
          "name": "stdout"
        }
      ]
    },
    {
      "cell_type": "code",
      "metadata": {
        "id": "Q6FSS4hnnuG6"
      },
      "source": [
        "criterion = nn.CrossEntropyLoss()"
      ],
      "execution_count": null,
      "outputs": []
    },
    {
      "cell_type": "code",
      "metadata": {
        "id": "_JHKIDAvnN1k"
      },
      "source": [
        "lr = 0.01\r\n",
        "optimizer = torch.optim.Adam(model.parameters(), lr=lr) "
      ],
      "execution_count": null,
      "outputs": []
    },
    {
      "cell_type": "code",
      "metadata": {
        "id": "bFGpk91osGAa"
      },
      "source": [
        "# Create Dateaset Class\r\n",
        "\r\n",
        "class Dataset(Dataset):\r\n",
        "    \r\n",
        "    # Constructor\r\n",
        "    def __init__(self, img, label, transform=None):\r\n",
        "      self.img = img\r\n",
        "      self.label = label\r\n",
        "      self.transform = transform\r\n",
        "\r\n",
        "    \r\n",
        "    # Get Length\r\n",
        "    def __len__(self):\r\n",
        "      return self.img.shape[0]\r\n",
        "    \r\n",
        "    # Getter\r\n",
        "    def __getitem__(self, idx):\r\n",
        "      image = self.img[idx]\r\n",
        "      y = self.label[idx]\r\n",
        "      if(self.transform != None):\r\n",
        "        image = self.transform\r\n",
        "      return image, y"
      ],
      "execution_count": null,
      "outputs": []
    },
    {
      "cell_type": "code",
      "metadata": {
        "id": "zrrSS8rLsdqN"
      },
      "source": [
        "train_data = Dataset(train_img, train_label)\r\n",
        "valid_data = Dataset(valid_img, valid_label)"
      ],
      "execution_count": null,
      "outputs": []
    },
    {
      "cell_type": "code",
      "metadata": {
        "id": "iGp1eE7Wn3EF"
      },
      "source": [
        "trainloader = DataLoader(dataset = train_data, batch_size = 64)\r\n",
        "validloader = DataLoader(dataset = valid_data, batch_size = 64)"
      ],
      "execution_count": null,
      "outputs": []
    },
    {
      "cell_type": "code",
      "metadata": {
        "colab": {
          "base_uri": "https://localhost:8080/"
        },
        "id": "X_qRFlyjnk1q",
        "outputId": "0abdd280-ecd5-483a-c071-c3fb9ff90306"
      },
      "source": [
        "# Step 4: Train the model\r\n",
        "\r\n",
        "N_EPOCHS = 20\r\n",
        "loss_list = []\r\n",
        "accuracy_list = []\r\n",
        "correct = 0\r\n",
        "n_test = len(valid)\r\n",
        "for e in range(N_EPOCHS):\r\n",
        "  print(\"epoch: \"+str(e))\r\n",
        "  model.train()\r\n",
        "  for idx, (image, y) in enumerate(trainloader):\r\n",
        " #       image = image.type(torch.DoubleTensor)\r\n",
        "      yhat = model(image)\r\n",
        "      loss = criterion(yhat, y)\r\n",
        "      optimizer.zero_grad()\r\n",
        "#      loss.backward(retain_graph = True)\r\n",
        "      loss.backward()\r\n",
        "      optimizer.step()\r\n",
        "      if(idx % 100 == 0):\r\n",
        "        print(\"Train: {} [loss: {}]\".format(idx, loss)) \r\n",
        "#    loss = loss/len(trainloader)\r\n",
        "  loss = 0\r\n",
        "  correct = 0\r\n",
        "  model.eval()\r\n",
        "  for _, (data, y) in enumerate(validloader):\r\n",
        "      output = model(data)\r\n",
        "      loss += criterion(output, y).data.item()\r\n",
        "      pred = output.data.max(1, keepdim=True)[1]\r\n",
        "      correct += (y == torch.tensor(np.argmax(output.detach().numpy(), axis = 1))).sum().item()\r\n",
        "        \r\n",
        "  loss /= len(validloader.dataset)\r\n",
        "  loss_list.append(loss)\r\n",
        "  print(\"Val average_loss: {} accuracy: {} ({}/{})\".format(loss, correct / len(validloader.dataset), correct, len(validloader.dataset)))\r\n",
        "  accuracy_list.append(correct/len(validloader.dataset))\r\n",
        "# Type your code here"
      ],
      "execution_count": null,
      "outputs": [
        {
          "output_type": "stream",
          "text": [
            "epoch: 0\n",
            "Train: 0 [loss: 2.4319069385528564]\n",
            "Train: 100 [loss: 0.41558757424354553]\n",
            "Train: 200 [loss: 0.7021271586418152]\n",
            "Train: 300 [loss: 0.4790567457675934]\n",
            "Train: 400 [loss: 0.08515533804893494]\n",
            "Train: 500 [loss: 0.1559620499610901]\n",
            "Train: 600 [loss: 0.0028314804658293724]\n",
            "Train: 700 [loss: 0.013692713342607021]\n",
            "Train: 800 [loss: 0.017805011942982674]\n",
            "Train: 900 [loss: 0.0028968669939786196]\n",
            "Val average_loss: 0.024208431236911566 accuracy: 0.69814453125 (7149/10240)\n",
            "epoch: 1\n",
            "Train: 0 [loss: 0.0019562947563827038]\n",
            "Train: 100 [loss: 0.19248239696025848]\n",
            "Train: 200 [loss: 0.3018498122692108]\n",
            "Train: 300 [loss: 0.5721302628517151]\n",
            "Train: 400 [loss: 0.1905655711889267]\n",
            "Train: 500 [loss: 0.05315214768052101]\n",
            "Train: 600 [loss: 0.0007331866072490811]\n",
            "Train: 700 [loss: 0.03298536688089371]\n",
            "Train: 800 [loss: 0.0015135073335841298]\n",
            "Train: 900 [loss: 0.017379868775606155]\n",
            "Val average_loss: 0.01887024313909933 accuracy: 0.7458984375 (7638/10240)\n",
            "epoch: 2\n",
            "Train: 0 [loss: 0.019550690427422523]\n",
            "Train: 100 [loss: 0.15409733355045319]\n",
            "Train: 200 [loss: 0.1791532039642334]\n",
            "Train: 300 [loss: 0.2954143285751343]\n",
            "Train: 400 [loss: 0.05026138573884964]\n",
            "Train: 500 [loss: 0.07876969873905182]\n",
            "Train: 600 [loss: 0.0005197636783123016]\n",
            "Train: 700 [loss: 0.015533735044300556]\n",
            "Train: 800 [loss: 0.0007135216146707535]\n",
            "Train: 900 [loss: 0.15509192645549774]\n",
            "Val average_loss: 0.018094688400742596 accuracy: 0.75224609375 (7703/10240)\n",
            "epoch: 3\n",
            "Train: 0 [loss: 0.004896826576441526]\n",
            "Train: 100 [loss: 0.15560732781887054]\n",
            "Train: 200 [loss: 0.15394553542137146]\n",
            "Train: 300 [loss: 0.19994640350341797]\n",
            "Train: 400 [loss: 0.0006006670882925391]\n",
            "Train: 500 [loss: 0.0030425318982452154]\n",
            "Train: 600 [loss: 0.00021557726722676307]\n",
            "Train: 700 [loss: 0.043297719210386276]\n",
            "Train: 800 [loss: 0.00017562789435032755]\n",
            "Train: 900 [loss: 0.00017202591698151082]\n",
            "Val average_loss: 0.018264295445987955 accuracy: 0.7486328125 (7666/10240)\n",
            "epoch: 4\n",
            "Train: 0 [loss: 0.0007785091875120997]\n",
            "Train: 100 [loss: 0.36151596903800964]\n",
            "Train: 200 [loss: 0.2119184285402298]\n",
            "Train: 300 [loss: 0.2922121584415436]\n",
            "Train: 400 [loss: 0.0003215594624634832]\n",
            "Train: 500 [loss: 0.042463868856430054]\n",
            "Train: 600 [loss: 0.0014606756158173084]\n",
            "Train: 700 [loss: 0.009970230050384998]\n",
            "Train: 800 [loss: 0.00011348581756465137]\n",
            "Train: 900 [loss: 0.0045921760611236095]\n",
            "Val average_loss: 0.02894093473441899 accuracy: 0.69736328125 (7141/10240)\n",
            "epoch: 5\n",
            "Train: 0 [loss: 0.0028592285234481096]\n",
            "Train: 100 [loss: 0.02015111967921257]\n",
            "Train: 200 [loss: 0.3522259593009949]\n",
            "Train: 300 [loss: 0.020344479009509087]\n",
            "Train: 400 [loss: 0.003429101314395666]\n",
            "Train: 500 [loss: 0.03665688633918762]\n",
            "Train: 600 [loss: 7.125754927983508e-05]\n",
            "Train: 700 [loss: 0.04592910036444664]\n",
            "Train: 800 [loss: 0.00023700972087681293]\n",
            "Train: 900 [loss: 0.004233300685882568]\n",
            "Val average_loss: 0.020724601301481016 accuracy: 0.77529296875 (7939/10240)\n",
            "epoch: 6\n",
            "Train: 0 [loss: 0.012337944470345974]\n",
            "Train: 100 [loss: 0.0723598301410675]\n",
            "Train: 200 [loss: 0.17738810181617737]\n",
            "Train: 300 [loss: 0.10300286114215851]\n",
            "Train: 400 [loss: 0.0006730543682351708]\n",
            "Train: 500 [loss: 0.004912486299872398]\n",
            "Train: 600 [loss: 0.00021107366774231195]\n",
            "Train: 700 [loss: 0.04137738049030304]\n",
            "Train: 800 [loss: 0.0002328635164303705]\n",
            "Train: 900 [loss: 0.0003244676045142114]\n",
            "Val average_loss: 0.01883951695635915 accuracy: 0.77255859375 (7911/10240)\n",
            "epoch: 7\n",
            "Train: 0 [loss: 0.003370090387761593]\n",
            "Train: 100 [loss: 0.029933763667941093]\n",
            "Train: 200 [loss: 0.2283039540052414]\n",
            "Train: 300 [loss: 0.13875046372413635]\n",
            "Train: 400 [loss: 0.0006443000747822225]\n",
            "Train: 500 [loss: 0.005897105671465397]\n",
            "Train: 600 [loss: 0.00011545483721420169]\n",
            "Train: 700 [loss: 0.028782818466424942]\n",
            "Train: 800 [loss: 0.002844906644895673]\n",
            "Train: 900 [loss: 0.00013608588778879493]\n",
            "Val average_loss: 0.020103156109689733 accuracy: 0.74345703125 (7613/10240)\n",
            "epoch: 8\n",
            "Train: 0 [loss: 0.006595155224204063]\n",
            "Train: 100 [loss: 0.12709826231002808]\n",
            "Train: 200 [loss: 0.23201557993888855]\n",
            "Train: 300 [loss: 0.0551944263279438]\n",
            "Train: 400 [loss: 0.0003453203244134784]\n",
            "Train: 500 [loss: 0.001991280820220709]\n",
            "Train: 600 [loss: 0.0003412351943552494]\n",
            "Train: 700 [loss: 0.02800890989601612]\n",
            "Train: 800 [loss: 2.2812530005467124e-05]\n",
            "Train: 900 [loss: 0.0008056389633566141]\n",
            "Val average_loss: 0.026550981344189494 accuracy: 0.741796875 (7596/10240)\n",
            "epoch: 9\n",
            "Train: 0 [loss: 0.0009437868138775229]\n",
            "Train: 100 [loss: 0.004409579560160637]\n",
            "Train: 200 [loss: 0.2923988997936249]\n",
            "Train: 300 [loss: 0.04959455132484436]\n",
            "Train: 400 [loss: 0.0011645336635410786]\n",
            "Train: 500 [loss: 0.01298808678984642]\n",
            "Train: 600 [loss: 0.000272548059001565]\n",
            "Train: 700 [loss: 0.2476179599761963]\n",
            "Train: 800 [loss: 0.0145344203338027]\n",
            "Train: 900 [loss: 0.0004893505247309804]\n",
            "Val average_loss: 0.025984125060494988 accuracy: 0.71455078125 (7317/10240)\n",
            "epoch: 10\n",
            "Train: 0 [loss: 0.005057183094322681]\n",
            "Train: 100 [loss: 0.07511190325021744]\n",
            "Train: 200 [loss: 0.20251603424549103]\n",
            "Train: 300 [loss: 0.017463181167840958]\n",
            "Train: 400 [loss: 0.007219881284981966]\n",
            "Train: 500 [loss: 0.008801205083727837]\n",
            "Train: 600 [loss: 0.0006863086018711329]\n",
            "Train: 700 [loss: 0.10302423685789108]\n",
            "Train: 800 [loss: 0.0005271558184176683]\n",
            "Train: 900 [loss: 0.00832692626863718]\n",
            "Val average_loss: 0.027199097018456086 accuracy: 0.715625 (7328/10240)\n",
            "epoch: 11\n",
            "Train: 0 [loss: 0.003929803613573313]\n",
            "Train: 100 [loss: 0.0029885221738368273]\n",
            "Train: 200 [loss: 0.2398463487625122]\n",
            "Train: 300 [loss: 0.0016641262918710709]\n",
            "Train: 400 [loss: 0.00038974685594439507]\n",
            "Train: 500 [loss: 0.005256981588900089]\n",
            "Train: 600 [loss: 0.0005156630650162697]\n",
            "Train: 700 [loss: 0.007135553285479546]\n",
            "Train: 800 [loss: 4.918854301649844e-06]\n",
            "Train: 900 [loss: 0.00013594487973023206]\n",
            "Val average_loss: 0.01770004251447972 accuracy: 0.77939453125 (7981/10240)\n",
            "epoch: 12\n",
            "Train: 0 [loss: 0.0001875690941233188]\n",
            "Train: 100 [loss: 0.005062130279839039]\n",
            "Train: 200 [loss: 0.1968608796596527]\n",
            "Train: 300 [loss: 0.019465524703264236]\n",
            "Train: 400 [loss: 0.00015400935080833733]\n",
            "Train: 500 [loss: 0.0038272268138825893]\n",
            "Train: 600 [loss: 0.008086052723228931]\n",
            "Train: 700 [loss: 0.08406156301498413]\n",
            "Train: 800 [loss: 1.1838536011055112e-05]\n",
            "Train: 900 [loss: 0.00018708966672420502]\n",
            "Val average_loss: 0.0236643527954584 accuracy: 0.72568359375 (7431/10240)\n",
            "epoch: 13\n",
            "Train: 0 [loss: 0.004311214201152325]\n",
            "Train: 100 [loss: 0.003508539404720068]\n",
            "Train: 200 [loss: 0.1426939070224762]\n",
            "Train: 300 [loss: 0.044587112963199615]\n",
            "Train: 400 [loss: 0.003971107304096222]\n",
            "Train: 500 [loss: 0.0031091528944671154]\n",
            "Train: 600 [loss: 9.885413601296023e-05]\n",
            "Train: 700 [loss: 0.032771188765764236]\n",
            "Train: 800 [loss: 9.279944606532808e-06]\n",
            "Train: 900 [loss: 2.982105615956243e-05]\n",
            "Val average_loss: 0.022932814492378384 accuracy: 0.76796875 (7864/10240)\n",
            "epoch: 14\n",
            "Train: 0 [loss: 0.0031295400112867355]\n",
            "Train: 100 [loss: 0.1348634660243988]\n",
            "Train: 200 [loss: 0.14823183417320251]\n",
            "Train: 300 [loss: 0.033070310950279236]\n",
            "Train: 400 [loss: 0.0003670016012620181]\n",
            "Train: 500 [loss: 0.002668126253411174]\n",
            "Train: 600 [loss: 0.001823802711442113]\n",
            "Train: 700 [loss: 0.0011416448978707194]\n",
            "Train: 800 [loss: 2.3204496756079607e-05]\n",
            "Train: 900 [loss: 0.00011946009180974215]\n",
            "Val average_loss: 0.039285211148671804 accuracy: 0.68896484375 (7055/10240)\n",
            "epoch: 15\n",
            "Train: 0 [loss: 1.626368066354189e-05]\n",
            "Train: 100 [loss: 0.02673124521970749]\n",
            "Train: 200 [loss: 0.22217242419719696]\n",
            "Train: 300 [loss: 0.17656317353248596]\n",
            "Train: 400 [loss: 0.0002004933776333928]\n",
            "Train: 500 [loss: 0.00046372049837373197]\n",
            "Train: 600 [loss: 0.08307091891765594]\n",
            "Train: 700 [loss: 0.004415137693285942]\n",
            "Train: 800 [loss: 8.16347892396152e-06]\n",
            "Train: 900 [loss: 0.00024758861400187016]\n",
            "Val average_loss: 0.022990852606017142 accuracy: 0.77119140625 (7897/10240)\n",
            "epoch: 16\n",
            "Train: 0 [loss: 0.0038208775222301483]\n",
            "Train: 100 [loss: 0.001255739014595747]\n",
            "Train: 200 [loss: 0.09947167336940765]\n",
            "Train: 300 [loss: 0.010728336870670319]\n",
            "Train: 400 [loss: 0.00079359021037817]\n",
            "Train: 500 [loss: 0.00631671492010355]\n",
            "Train: 600 [loss: 0.0005161089939065278]\n",
            "Train: 700 [loss: 0.052264414727687836]\n",
            "Train: 800 [loss: 5.357151894713752e-05]\n",
            "Train: 900 [loss: 9.099835551751312e-06]\n",
            "Val average_loss: 0.023755951895145698 accuracy: 0.76044921875 (7787/10240)\n",
            "epoch: 17\n",
            "Train: 0 [loss: 0.0023450152948498726]\n",
            "Train: 100 [loss: 0.00281356880441308]\n",
            "Train: 200 [loss: 0.15092411637306213]\n",
            "Train: 300 [loss: 0.002081451006233692]\n",
            "Train: 400 [loss: 0.0019328155322000384]\n",
            "Train: 500 [loss: 0.00015651174180675298]\n",
            "Train: 600 [loss: 0.001648619188927114]\n",
            "Train: 700 [loss: 0.0008868171134963632]\n",
            "Train: 800 [loss: 2.5612624085624702e-05]\n",
            "Train: 900 [loss: 0.0010176406940445304]\n",
            "Val average_loss: 0.020136107648431788 accuracy: 0.7943359375 (8134/10240)\n",
            "epoch: 18\n",
            "Train: 0 [loss: 0.005171048454940319]\n",
            "Train: 100 [loss: 0.00043134833686053753]\n",
            "Train: 200 [loss: 0.11712534725666046]\n",
            "Train: 300 [loss: 0.0103885717689991]\n",
            "Train: 400 [loss: 0.004114622250199318]\n",
            "Train: 500 [loss: 0.03292373940348625]\n",
            "Train: 600 [loss: 0.00013619885430671275]\n",
            "Train: 700 [loss: 0.027702517807483673]\n",
            "Train: 800 [loss: 7.373330845439341e-06]\n",
            "Train: 900 [loss: 0.048998601734638214]\n",
            "Val average_loss: 0.03089779555448331 accuracy: 0.7509765625 (7690/10240)\n",
            "epoch: 19\n",
            "Train: 0 [loss: 0.0008541961433365941]\n",
            "Train: 100 [loss: 0.018257219344377518]\n",
            "Train: 200 [loss: 0.1078055277466774]\n",
            "Train: 300 [loss: 0.013553982600569725]\n",
            "Train: 400 [loss: 0.0010181681718677282]\n",
            "Train: 500 [loss: 0.0685759112238884]\n",
            "Train: 600 [loss: 1.5829453332116827e-05]\n",
            "Train: 700 [loss: 3.137962266919203e-05]\n",
            "Train: 800 [loss: 1.1976649147982243e-06]\n",
            "Train: 900 [loss: 9.5525429060217e-06]\n",
            "Val average_loss: 0.02786582630360499 accuracy: 0.74052734375 (7583/10240)\n"
          ],
          "name": "stdout"
        }
      ]
    },
    {
      "cell_type": "code",
      "metadata": {
        "id": "5NQRMmdrsqq7",
        "colab": {
          "base_uri": "https://localhost:8080/"
        },
        "outputId": "a591b4e7-a44e-4248-f679-4e992bfd6453"
      },
      "source": [
        "correct/len(validloader.dataset)"
      ],
      "execution_count": null,
      "outputs": [
        {
          "output_type": "execute_result",
          "data": {
            "text/plain": [
              "0.74052734375"
            ]
          },
          "metadata": {
            "tags": []
          },
          "execution_count": 21
        }
      ]
    },
    {
      "cell_type": "code",
      "metadata": {
        "id": "8zRNs9-Prp-G"
      },
      "source": [
        "torch.save(model.state_dict(), 'checkpoint.pth')\r\n",
        "torch.save(model, 'model.pt')\r\n",
        "# download checkpoint file\r\n",
        "#files.download('model')"
      ],
      "execution_count": null,
      "outputs": []
    },
    {
      "cell_type": "code",
      "metadata": {
        "colab": {
          "base_uri": "https://localhost:8080/",
          "height": 244
        },
        "id": "yTqg1ocDdOtk",
        "outputId": "c526ad12-7ec6-4eaa-dfa0-0494becbd95d"
      },
      "source": [
        "test.head()"
      ],
      "execution_count": null,
      "outputs": [
        {
          "output_type": "execute_result",
          "data": {
            "text/html": [
              "<div>\n",
              "<style scoped>\n",
              "    .dataframe tbody tr th:only-of-type {\n",
              "        vertical-align: middle;\n",
              "    }\n",
              "\n",
              "    .dataframe tbody tr th {\n",
              "        vertical-align: top;\n",
              "    }\n",
              "\n",
              "    .dataframe thead th {\n",
              "        text-align: right;\n",
              "    }\n",
              "</style>\n",
              "<table border=\"1\" class=\"dataframe\">\n",
              "  <thead>\n",
              "    <tr style=\"text-align: right;\">\n",
              "      <th></th>\n",
              "      <th>pixel0</th>\n",
              "      <th>pixel1</th>\n",
              "      <th>pixel2</th>\n",
              "      <th>pixel3</th>\n",
              "      <th>pixel4</th>\n",
              "      <th>pixel5</th>\n",
              "      <th>pixel6</th>\n",
              "      <th>pixel7</th>\n",
              "      <th>pixel8</th>\n",
              "      <th>pixel9</th>\n",
              "      <th>pixel10</th>\n",
              "      <th>pixel11</th>\n",
              "      <th>pixel12</th>\n",
              "      <th>pixel13</th>\n",
              "      <th>pixel14</th>\n",
              "      <th>pixel15</th>\n",
              "      <th>pixel16</th>\n",
              "      <th>pixel17</th>\n",
              "      <th>pixel18</th>\n",
              "      <th>pixel19</th>\n",
              "      <th>pixel20</th>\n",
              "      <th>pixel21</th>\n",
              "      <th>pixel22</th>\n",
              "      <th>pixel23</th>\n",
              "      <th>pixel24</th>\n",
              "      <th>...</th>\n",
              "      <th>pixel759</th>\n",
              "      <th>pixel760</th>\n",
              "      <th>pixel761</th>\n",
              "      <th>pixel762</th>\n",
              "      <th>pixel763</th>\n",
              "      <th>pixel764</th>\n",
              "      <th>pixel765</th>\n",
              "      <th>pixel766</th>\n",
              "      <th>pixel767</th>\n",
              "      <th>pixel768</th>\n",
              "      <th>pixel769</th>\n",
              "      <th>pixel770</th>\n",
              "      <th>pixel771</th>\n",
              "      <th>pixel772</th>\n",
              "      <th>pixel773</th>\n",
              "      <th>pixel774</th>\n",
              "      <th>pixel775</th>\n",
              "      <th>pixel776</th>\n",
              "      <th>pixel777</th>\n",
              "      <th>pixel778</th>\n",
              "      <th>pixel779</th>\n",
              "      <th>pixel780</th>\n",
              "      <th>pixel781</th>\n",
              "      <th>pixel782</th>\n",
              "      <th>pixel783</th>\n",
              "    </tr>\n",
              "  </thead>\n",
              "  <tbody>\n",
              "    <tr>\n",
              "      <th>0</th>\n",
              "      <td>0</td>\n",
              "      <td>0</td>\n",
              "      <td>0</td>\n",
              "      <td>0</td>\n",
              "      <td>0</td>\n",
              "      <td>0</td>\n",
              "      <td>0</td>\n",
              "      <td>0</td>\n",
              "      <td>0</td>\n",
              "      <td>0</td>\n",
              "      <td>0</td>\n",
              "      <td>0</td>\n",
              "      <td>0</td>\n",
              "      <td>0</td>\n",
              "      <td>0</td>\n",
              "      <td>0</td>\n",
              "      <td>0</td>\n",
              "      <td>0</td>\n",
              "      <td>0</td>\n",
              "      <td>0</td>\n",
              "      <td>0</td>\n",
              "      <td>0</td>\n",
              "      <td>0</td>\n",
              "      <td>0</td>\n",
              "      <td>0</td>\n",
              "      <td>...</td>\n",
              "      <td>0</td>\n",
              "      <td>0</td>\n",
              "      <td>0</td>\n",
              "      <td>0</td>\n",
              "      <td>0</td>\n",
              "      <td>0</td>\n",
              "      <td>0</td>\n",
              "      <td>0</td>\n",
              "      <td>0</td>\n",
              "      <td>0</td>\n",
              "      <td>0</td>\n",
              "      <td>0</td>\n",
              "      <td>0</td>\n",
              "      <td>0</td>\n",
              "      <td>0</td>\n",
              "      <td>0</td>\n",
              "      <td>0</td>\n",
              "      <td>0</td>\n",
              "      <td>0</td>\n",
              "      <td>0</td>\n",
              "      <td>0</td>\n",
              "      <td>0</td>\n",
              "      <td>0</td>\n",
              "      <td>0</td>\n",
              "      <td>0</td>\n",
              "    </tr>\n",
              "    <tr>\n",
              "      <th>1</th>\n",
              "      <td>0</td>\n",
              "      <td>0</td>\n",
              "      <td>0</td>\n",
              "      <td>0</td>\n",
              "      <td>0</td>\n",
              "      <td>0</td>\n",
              "      <td>0</td>\n",
              "      <td>0</td>\n",
              "      <td>0</td>\n",
              "      <td>0</td>\n",
              "      <td>0</td>\n",
              "      <td>0</td>\n",
              "      <td>0</td>\n",
              "      <td>0</td>\n",
              "      <td>0</td>\n",
              "      <td>0</td>\n",
              "      <td>0</td>\n",
              "      <td>0</td>\n",
              "      <td>0</td>\n",
              "      <td>0</td>\n",
              "      <td>0</td>\n",
              "      <td>0</td>\n",
              "      <td>0</td>\n",
              "      <td>0</td>\n",
              "      <td>0</td>\n",
              "      <td>...</td>\n",
              "      <td>0</td>\n",
              "      <td>0</td>\n",
              "      <td>0</td>\n",
              "      <td>0</td>\n",
              "      <td>0</td>\n",
              "      <td>0</td>\n",
              "      <td>0</td>\n",
              "      <td>0</td>\n",
              "      <td>0</td>\n",
              "      <td>0</td>\n",
              "      <td>0</td>\n",
              "      <td>0</td>\n",
              "      <td>0</td>\n",
              "      <td>0</td>\n",
              "      <td>0</td>\n",
              "      <td>0</td>\n",
              "      <td>0</td>\n",
              "      <td>0</td>\n",
              "      <td>0</td>\n",
              "      <td>0</td>\n",
              "      <td>0</td>\n",
              "      <td>0</td>\n",
              "      <td>0</td>\n",
              "      <td>0</td>\n",
              "      <td>0</td>\n",
              "    </tr>\n",
              "    <tr>\n",
              "      <th>2</th>\n",
              "      <td>0</td>\n",
              "      <td>0</td>\n",
              "      <td>0</td>\n",
              "      <td>0</td>\n",
              "      <td>0</td>\n",
              "      <td>0</td>\n",
              "      <td>0</td>\n",
              "      <td>0</td>\n",
              "      <td>0</td>\n",
              "      <td>0</td>\n",
              "      <td>0</td>\n",
              "      <td>0</td>\n",
              "      <td>0</td>\n",
              "      <td>0</td>\n",
              "      <td>0</td>\n",
              "      <td>0</td>\n",
              "      <td>0</td>\n",
              "      <td>0</td>\n",
              "      <td>0</td>\n",
              "      <td>0</td>\n",
              "      <td>0</td>\n",
              "      <td>0</td>\n",
              "      <td>0</td>\n",
              "      <td>0</td>\n",
              "      <td>0</td>\n",
              "      <td>...</td>\n",
              "      <td>0</td>\n",
              "      <td>0</td>\n",
              "      <td>0</td>\n",
              "      <td>0</td>\n",
              "      <td>0</td>\n",
              "      <td>0</td>\n",
              "      <td>0</td>\n",
              "      <td>0</td>\n",
              "      <td>0</td>\n",
              "      <td>0</td>\n",
              "      <td>0</td>\n",
              "      <td>0</td>\n",
              "      <td>0</td>\n",
              "      <td>0</td>\n",
              "      <td>0</td>\n",
              "      <td>0</td>\n",
              "      <td>0</td>\n",
              "      <td>0</td>\n",
              "      <td>0</td>\n",
              "      <td>0</td>\n",
              "      <td>0</td>\n",
              "      <td>0</td>\n",
              "      <td>0</td>\n",
              "      <td>0</td>\n",
              "      <td>0</td>\n",
              "    </tr>\n",
              "    <tr>\n",
              "      <th>3</th>\n",
              "      <td>0</td>\n",
              "      <td>0</td>\n",
              "      <td>0</td>\n",
              "      <td>0</td>\n",
              "      <td>0</td>\n",
              "      <td>0</td>\n",
              "      <td>0</td>\n",
              "      <td>0</td>\n",
              "      <td>0</td>\n",
              "      <td>0</td>\n",
              "      <td>0</td>\n",
              "      <td>0</td>\n",
              "      <td>0</td>\n",
              "      <td>0</td>\n",
              "      <td>0</td>\n",
              "      <td>0</td>\n",
              "      <td>0</td>\n",
              "      <td>0</td>\n",
              "      <td>0</td>\n",
              "      <td>0</td>\n",
              "      <td>0</td>\n",
              "      <td>0</td>\n",
              "      <td>0</td>\n",
              "      <td>0</td>\n",
              "      <td>0</td>\n",
              "      <td>...</td>\n",
              "      <td>0</td>\n",
              "      <td>0</td>\n",
              "      <td>0</td>\n",
              "      <td>0</td>\n",
              "      <td>0</td>\n",
              "      <td>0</td>\n",
              "      <td>0</td>\n",
              "      <td>0</td>\n",
              "      <td>0</td>\n",
              "      <td>0</td>\n",
              "      <td>0</td>\n",
              "      <td>0</td>\n",
              "      <td>0</td>\n",
              "      <td>0</td>\n",
              "      <td>0</td>\n",
              "      <td>0</td>\n",
              "      <td>0</td>\n",
              "      <td>0</td>\n",
              "      <td>0</td>\n",
              "      <td>0</td>\n",
              "      <td>0</td>\n",
              "      <td>0</td>\n",
              "      <td>0</td>\n",
              "      <td>0</td>\n",
              "      <td>0</td>\n",
              "    </tr>\n",
              "    <tr>\n",
              "      <th>4</th>\n",
              "      <td>0</td>\n",
              "      <td>0</td>\n",
              "      <td>0</td>\n",
              "      <td>0</td>\n",
              "      <td>0</td>\n",
              "      <td>0</td>\n",
              "      <td>0</td>\n",
              "      <td>0</td>\n",
              "      <td>0</td>\n",
              "      <td>0</td>\n",
              "      <td>0</td>\n",
              "      <td>0</td>\n",
              "      <td>0</td>\n",
              "      <td>0</td>\n",
              "      <td>0</td>\n",
              "      <td>0</td>\n",
              "      <td>0</td>\n",
              "      <td>0</td>\n",
              "      <td>0</td>\n",
              "      <td>0</td>\n",
              "      <td>0</td>\n",
              "      <td>0</td>\n",
              "      <td>0</td>\n",
              "      <td>0</td>\n",
              "      <td>0</td>\n",
              "      <td>...</td>\n",
              "      <td>0</td>\n",
              "      <td>0</td>\n",
              "      <td>0</td>\n",
              "      <td>0</td>\n",
              "      <td>0</td>\n",
              "      <td>0</td>\n",
              "      <td>0</td>\n",
              "      <td>0</td>\n",
              "      <td>0</td>\n",
              "      <td>0</td>\n",
              "      <td>0</td>\n",
              "      <td>0</td>\n",
              "      <td>0</td>\n",
              "      <td>0</td>\n",
              "      <td>0</td>\n",
              "      <td>0</td>\n",
              "      <td>0</td>\n",
              "      <td>0</td>\n",
              "      <td>0</td>\n",
              "      <td>0</td>\n",
              "      <td>0</td>\n",
              "      <td>0</td>\n",
              "      <td>0</td>\n",
              "      <td>0</td>\n",
              "      <td>0</td>\n",
              "    </tr>\n",
              "  </tbody>\n",
              "</table>\n",
              "<p>5 rows × 784 columns</p>\n",
              "</div>"
            ],
            "text/plain": [
              "   pixel0  pixel1  pixel2  pixel3  pixel4  pixel5  pixel6  pixel7  pixel8  \\\n",
              "0       0       0       0       0       0       0       0       0       0   \n",
              "1       0       0       0       0       0       0       0       0       0   \n",
              "2       0       0       0       0       0       0       0       0       0   \n",
              "3       0       0       0       0       0       0       0       0       0   \n",
              "4       0       0       0       0       0       0       0       0       0   \n",
              "\n",
              "   pixel9  pixel10  pixel11  pixel12  pixel13  pixel14  pixel15  pixel16  \\\n",
              "0       0        0        0        0        0        0        0        0   \n",
              "1       0        0        0        0        0        0        0        0   \n",
              "2       0        0        0        0        0        0        0        0   \n",
              "3       0        0        0        0        0        0        0        0   \n",
              "4       0        0        0        0        0        0        0        0   \n",
              "\n",
              "   pixel17  pixel18  pixel19  pixel20  pixel21  pixel22  pixel23  pixel24  \\\n",
              "0        0        0        0        0        0        0        0        0   \n",
              "1        0        0        0        0        0        0        0        0   \n",
              "2        0        0        0        0        0        0        0        0   \n",
              "3        0        0        0        0        0        0        0        0   \n",
              "4        0        0        0        0        0        0        0        0   \n",
              "\n",
              "   ...  pixel759  pixel760  pixel761  pixel762  pixel763  pixel764  pixel765  \\\n",
              "0  ...         0         0         0         0         0         0         0   \n",
              "1  ...         0         0         0         0         0         0         0   \n",
              "2  ...         0         0         0         0         0         0         0   \n",
              "3  ...         0         0         0         0         0         0         0   \n",
              "4  ...         0         0         0         0         0         0         0   \n",
              "\n",
              "   pixel766  pixel767  pixel768  pixel769  pixel770  pixel771  pixel772  \\\n",
              "0         0         0         0         0         0         0         0   \n",
              "1         0         0         0         0         0         0         0   \n",
              "2         0         0         0         0         0         0         0   \n",
              "3         0         0         0         0         0         0         0   \n",
              "4         0         0         0         0         0         0         0   \n",
              "\n",
              "   pixel773  pixel774  pixel775  pixel776  pixel777  pixel778  pixel779  \\\n",
              "0         0         0         0         0         0         0         0   \n",
              "1         0         0         0         0         0         0         0   \n",
              "2         0         0         0         0         0         0         0   \n",
              "3         0         0         0         0         0         0         0   \n",
              "4         0         0         0         0         0         0         0   \n",
              "\n",
              "   pixel780  pixel781  pixel782  pixel783  \n",
              "0         0         0         0         0  \n",
              "1         0         0         0         0  \n",
              "2         0         0         0         0  \n",
              "3         0         0         0         0  \n",
              "4         0         0         0         0  \n",
              "\n",
              "[5 rows x 784 columns]"
            ]
          },
          "metadata": {
            "tags": []
          },
          "execution_count": 31
        }
      ]
    },
    {
      "cell_type": "code",
      "metadata": {
        "id": "FgKv9bvddAOl"
      },
      "source": [
        "X_test = test.drop(['id'], axis = 1).to_numpy()\r\n",
        "X_test = X_test.reshape((len(test),1,28,28)).astype(np.uint8)\r\n",
        "X_test = torch.tensor(X_test)\r\n",
        "X_test = X_test/255"
      ],
      "execution_count": null,
      "outputs": []
    },
    {
      "cell_type": "code",
      "metadata": {
        "id": "omTqJeOVKFvy",
        "colab": {
          "base_uri": "https://localhost:8080/"
        },
        "outputId": "a237f427-b59d-4f96-e360-5f519ad0b92c"
      },
      "source": [
        "model.eval()\r\n",
        "y_test = model(torch.tensor(X_test))"
      ],
      "execution_count": null,
      "outputs": [
        {
          "output_type": "stream",
          "text": [
            "/usr/local/lib/python3.6/dist-packages/ipykernel_launcher.py:2: UserWarning: To copy construct from a tensor, it is recommended to use sourceTensor.clone().detach() or sourceTensor.clone().detach().requires_grad_(True), rather than torch.tensor(sourceTensor).\n",
            "  \n"
          ],
          "name": "stderr"
        }
      ]
    },
    {
      "cell_type": "code",
      "metadata": {
        "id": "uP2YrW7xcueS"
      },
      "source": [
        "pred = y_test.data.max(1, keepdim=True)[1]"
      ],
      "execution_count": null,
      "outputs": []
    },
    {
      "cell_type": "code",
      "metadata": {
        "id": "ubbabxKJfTXu"
      },
      "source": [
        "sample = pd.read_csv('/content/sample_submission.csv')"
      ],
      "execution_count": null,
      "outputs": []
    },
    {
      "cell_type": "code",
      "metadata": {
        "colab": {
          "base_uri": "https://localhost:8080/",
          "height": 195
        },
        "id": "T4y7asx3fb0M",
        "outputId": "7fb6cbed-d1c5-4fb7-e870-f48de9d69ae8"
      },
      "source": [
        "sample['label'] = pred.detach().numpy()\r\n",
        "sample.head()"
      ],
      "execution_count": null,
      "outputs": [
        {
          "output_type": "execute_result",
          "data": {
            "text/html": [
              "<div>\n",
              "<style scoped>\n",
              "    .dataframe tbody tr th:only-of-type {\n",
              "        vertical-align: middle;\n",
              "    }\n",
              "\n",
              "    .dataframe tbody tr th {\n",
              "        vertical-align: top;\n",
              "    }\n",
              "\n",
              "    .dataframe thead th {\n",
              "        text-align: right;\n",
              "    }\n",
              "</style>\n",
              "<table border=\"1\" class=\"dataframe\">\n",
              "  <thead>\n",
              "    <tr style=\"text-align: right;\">\n",
              "      <th></th>\n",
              "      <th>id</th>\n",
              "      <th>label</th>\n",
              "    </tr>\n",
              "  </thead>\n",
              "  <tbody>\n",
              "    <tr>\n",
              "      <th>0</th>\n",
              "      <td>0</td>\n",
              "      <td>3</td>\n",
              "    </tr>\n",
              "    <tr>\n",
              "      <th>1</th>\n",
              "      <td>1</td>\n",
              "      <td>0</td>\n",
              "    </tr>\n",
              "    <tr>\n",
              "      <th>2</th>\n",
              "      <td>2</td>\n",
              "      <td>2</td>\n",
              "    </tr>\n",
              "    <tr>\n",
              "      <th>3</th>\n",
              "      <td>3</td>\n",
              "      <td>6</td>\n",
              "    </tr>\n",
              "    <tr>\n",
              "      <th>4</th>\n",
              "      <td>4</td>\n",
              "      <td>7</td>\n",
              "    </tr>\n",
              "  </tbody>\n",
              "</table>\n",
              "</div>"
            ],
            "text/plain": [
              "   id  label\n",
              "0   0      3\n",
              "1   1      0\n",
              "2   2      2\n",
              "3   3      6\n",
              "4   4      7"
            ]
          },
          "metadata": {
            "tags": []
          },
          "execution_count": 64
        }
      ]
    },
    {
      "cell_type": "code",
      "metadata": {
        "id": "60xrd8Q8g0zj"
      },
      "source": [
        "sample.to_csv('b.csv',index=False)"
      ],
      "execution_count": null,
      "outputs": []
    },
    {
      "cell_type": "code",
      "metadata": {
        "id": "fG4WzM7Nr2JJ"
      },
      "source": [
        ""
      ],
      "execution_count": null,
      "outputs": []
    }
  ]
}